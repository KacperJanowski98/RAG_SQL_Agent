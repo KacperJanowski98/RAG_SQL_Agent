{
 "cells": [
  {
   "cell_type": "code",
   "execution_count": 1,
   "metadata": {},
   "outputs": [],
   "source": [
    "import base64\n",
    "from ollama import Client"
   ]
  },
  {
   "cell_type": "code",
   "execution_count": 2,
   "metadata": {},
   "outputs": [],
   "source": [
    "# Define the model name\n",
    "model = \"llama3.2-vision\""
   ]
  },
  {
   "cell_type": "code",
   "execution_count": 9,
   "metadata": {},
   "outputs": [],
   "source": [
    "# Function to perform text-based inference\n",
    "def text_inference(prompt:str)->str:\n",
    "    \"\"\"\n",
    "    Sends a text prompt to the AI model for inference and returns the model's response.\n",
    "\n",
    "    Args:\n",
    "        prompt (str): The text prompt or question to be sent to the AI model.\n",
    "\n",
    "    Returns:\n",
    "        str: The model's response based on the given text prompt.\n",
    "    \"\"\"\n",
    "    response = Client().chat(\n",
    "        model=model,\n",
    "        messages=[\n",
    "            {\"role\": \"system\", \"content\": \"You are a helpful assistant.\"},\n",
    "            {\"role\": \"user\", \"content\": prompt}\n",
    "        ]\n",
    "    )\n",
    "    return response['message']['content']\n",
    "\n",
    "# Function to perform image-based inference\n",
    "def image_inference(image_path:str, prompt:str)->str:\n",
    "    \"\"\"\n",
    "    Sends a text prompt and an image to the AI model for inference, returning the model's response.\n",
    "\n",
    "    Args:\n",
    "        image_path (str): The file path to the image to be sent to the AI model.\n",
    "        prompt (str): The text prompt or question accompanying the image.\n",
    "\n",
    "    Returns:\n",
    "        str: The model's response based on the given text prompt and image.\n",
    "    \"\"\"\n",
    "    # Read and encode the image\n",
    "    with open(image_path, \"rb\") as image_file:\n",
    "        base64_image = base64.b64encode(image_file.read()).decode('utf-8')\n",
    "\n",
    "    # Send the request\n",
    "    response = Client().chat(\n",
    "        model=model,\n",
    "        messages=[{\n",
    "            \"role\": \"user\",\n",
    "            \"content\": prompt,\n",
    "            \"images\": [base64_image]\n",
    "        }]\n",
    "    )\n",
    "    \n",
    "    # Extract and return the response text\n",
    "    return response['message']['content']"
   ]
  },
  {
   "cell_type": "markdown",
   "metadata": {},
   "source": [
    "#### Model input: Only text"
   ]
  },
  {
   "cell_type": "code",
   "execution_count": 4,
   "metadata": {},
   "outputs": [
    {
     "name": "stdout",
     "output_type": "stream",
     "text": [
      "I'm just a computer program, so I don't have feelings like humans do, but I'm functioning properly and ready to help with any questions or tasks you may have! How about you? How's your day going so far?\n"
     ]
    }
   ],
   "source": [
    "# Example usage\n",
    "text_prompt = \"\"\"Hello there. How are you today?\"\"\"\n",
    "print(text_inference(text_prompt))"
   ]
  },
  {
   "cell_type": "markdown",
   "metadata": {},
   "source": [
    "#### Model input: Text and Image"
   ]
  },
  {
   "cell_type": "code",
   "execution_count": 11,
   "metadata": {},
   "outputs": [
    {
     "name": "stdout",
     "output_type": "stream",
     "text": [
      "The image presents a visually appealing arrangement of ice cubes, mint leaves, and water droplets, likely intended to showcase the refreshing qualities of the combination. The title of the image is not provided.\n",
      "\n",
      "*   **Ice Cubes:**\n",
      "    *   Color: Blue\n",
      "    *   Shape: Cubic\n",
      "    *   Size: Varying, with some larger than others\n",
      "    *   Texture: Smooth, with visible water droplets on their surface\n",
      "    *   Arrangement: Randomly scattered throughout the image, with some overlapping each other\n",
      "*   **Mint Leaves:**\n",
      "    *   Color: Green\n",
      "    *   Shape: Oval or heart-shaped\n",
      "    *   Size: Relatively small compared to the ice cubes\n",
      "    *   Texture: Smooth, with visible veins on their surface\n",
      "    *   Arrangement: Placed on top of some ice cubes, adding a pop of color and freshness to the image\n",
      "*   **Water Droplets:**\n",
      "    *   Color: Clear\n",
      "    *   Size: Small, ranging from tiny beads to larger droplets\n",
      "    *   Texture: Smooth, reflecting light and creating a sense of depth in the image\n",
      "    *   Arrangement: Visible on the surface of the ice cubes, adding to their visual appeal\n",
      "\n",
      "In summary, the image features a creative arrangement of blue ice cubes, green mint leaves, and clear water droplets, evoking a refreshing and revitalizing atmosphere. The use of different textures, colors, and shapes adds depth and visual interest to the image, making it an effective representation of a cool and invigorating drink.\n"
     ]
    }
   ],
   "source": [
    "image_path = \"image.png\"\n",
    "image_prompt = \"Describe this image\"\n",
    "print(image_inference(image_path, image_prompt))"
   ]
  }
 ],
 "metadata": {
  "kernelspec": {
   "display_name": ".venv",
   "language": "python",
   "name": "python3"
  },
  "language_info": {
   "codemirror_mode": {
    "name": "ipython",
    "version": 3
   },
   "file_extension": ".py",
   "mimetype": "text/x-python",
   "name": "python",
   "nbconvert_exporter": "python",
   "pygments_lexer": "ipython3",
   "version": "3.12.4"
  }
 },
 "nbformat": 4,
 "nbformat_minor": 2
}
