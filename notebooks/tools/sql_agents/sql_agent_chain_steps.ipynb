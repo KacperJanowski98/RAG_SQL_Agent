{
 "cells": [
  {
   "cell_type": "code",
   "execution_count": 12,
   "metadata": {},
   "outputs": [
    {
     "data": {
      "text/plain": [
       "True"
      ]
     },
     "execution_count": 12,
     "metadata": {},
     "output_type": "execute_result"
    }
   ],
   "source": [
    "from pyprojroot import here\n",
    "from langchain_community.utilities import SQLDatabase\n",
    "from langchain_community.tools.sql_database.tool import QuerySQLDatabaseTool\n",
    "from langchain_core.prompts import PromptTemplate\n",
    "from langchain_core.output_parsers import StrOutputParser\n",
    "from langchain_core.runnables import RunnablePassthrough\n",
    "from operator import itemgetter\n",
    "from langchain_ollama import ChatOllama\n",
    "\n",
    "from dotenv import load_dotenv\n",
    "load_dotenv()"
   ]
  },
  {
   "cell_type": "markdown",
   "metadata": {},
   "source": [
    "#### Load and test the sqlite db"
   ]
  },
  {
   "cell_type": "code",
   "execution_count": 10,
   "metadata": {},
   "outputs": [
    {
     "name": "stdout",
     "output_type": "stream",
     "text": [
      "sqlite\n",
      "['Album', 'Artist', 'Customer', 'Employee', 'Genre', 'Invoice', 'InvoiceLine', 'MediaType', 'Playlist', 'PlaylistTrack', 'Track']\n"
     ]
    },
    {
     "data": {
      "text/plain": [
       "\"[(1, 'AC/DC'), (2, 'Accept'), (3, 'Aerosmith'), (4, 'Alanis Morissette'), (5, 'Alice In Chains'), (6, 'Antônio Carlos Jobim'), (7, 'Apocalyptica'), (8, 'Audioslave'), (9, 'BackBeat'), (10, 'Billy Cobham')]\""
      ]
     },
     "execution_count": 10,
     "metadata": {},
     "output_type": "execute_result"
    }
   ],
   "source": [
    "llm = ChatOllama(model=\"qwen2.5:14b\")\n",
    "\n",
    "# sqldb_directory = here(\"data/database.sqlite\")\n",
    "sqldb_directory = here(\"data/Chinook.db\")\n",
    "db = SQLDatabase.from_uri(\n",
    "    f\"sqlite:///{sqldb_directory}\")\n",
    "\n",
    "print(db.dialect)\n",
    "print(db.get_usable_table_names())\n",
    "db.run(\"SELECT * FROM Artist LIMIT 10;\")"
   ]
  },
  {
   "cell_type": "markdown",
   "metadata": {},
   "source": [
    "#### Create the SQL agent chain and run a test query"
   ]
  },
  {
   "cell_type": "code",
   "execution_count": null,
   "metadata": {},
   "outputs": [],
   "source": [
    "\n",
    "from langchain import hub\n",
    "from typing_extensions import TypedDict\n",
    "from typing_extensions import Annotated\n",
    "\n",
    "\n",
    "query_prompt_template = hub.pull(\"langchain-ai/sql-query-system-prompt\")\n",
    "\n",
    "system_role = \"\"\"Given the following user question, corresponding SQL query, and SQL result, answer the user question.\\n\n",
    "    Question: {question}\\n\n",
    "    SQL Query: {query}\\n\n",
    "    SQL Result: {result}\\n\n",
    "    Answer:\n",
    "    \"\"\"\n",
    "\n",
    "\n",
    "class State(TypedDict):\n",
    "    question: str\n",
    "    query: str\n",
    "    result: str\n",
    "    answer: str\n",
    "\n",
    "\n",
    "class QueryOutput(TypedDict):\n",
    "    \"\"\"Generated SQL query.\"\"\"\n",
    "\n",
    "    query: Annotated[str, ..., \"Syntactically valid SQL query.\"]\n",
    "\n",
    "\n",
    "def write_query(state: State):\n",
    "    prompt = query_prompt_template.invoke({\n",
    "        \"dialect\": db.dialect,\n",
    "        \"top_k\": 10,\n",
    "        \"table_info\": db.get_table_info(),\n",
    "        \"input\": state[\"question\"],\n",
    "    })\n",
    "    structured_llm = llm.with_structured_output(QueryOutput)\n",
    "    result = structured_llm.invoke(prompt)\n",
    "    return result\n",
    "\n",
    "execute_query = QuerySQLDatabaseTool(db=db)\n",
    "answer_prompt = PromptTemplate.from_template(system_role)\n",
    "answer = answer_prompt | llm | StrOutputParser()\n",
    "chain = (\n",
    "    RunnablePassthrough.assign(query=write_query).assign(\n",
    "        result=itemgetter(\"query\") | execute_query\n",
    "    )\n",
    "    | answer\n",
    ")"
   ]
  },
  {
   "cell_type": "code",
   "execution_count": 11,
   "metadata": {},
   "outputs": [
    {
     "data": {
      "text/plain": [
       "'The names of 5 artists from the database are:\\n\\n1. AC/DC\\n2. Aaron Copland & London Symphony Orchestra\\n3. Aaron Goldberg\\n4. Academy of St. Martin in the Fields & Sir Neville Marriner\\n5. Academy of St. Martin in the Fields Chamber Ensemble & Sir Neville Marriner'"
      ]
     },
     "execution_count": 11,
     "metadata": {},
     "output_type": "execute_result"
    }
   ],
   "source": [
    "message = \"Give me the names of 5 artists from the database\"\n",
    "response = chain.invoke({\"question\": message})\n",
    "response"
   ]
  },
  {
   "cell_type": "markdown",
   "metadata": {},
   "source": [
    "SQL-agent Tool Design"
   ]
  },
  {
   "cell_type": "code",
   "execution_count": 33,
   "metadata": {},
   "outputs": [],
   "source": [
    "from langchain_core.tools import tool\n",
    "from langchain_community.utilities import SQLDatabase\n",
    "from langchain_community.tools.sql_database.tool import QuerySQLDatabaseTool\n",
    "from langchain_core.prompts import PromptTemplate\n",
    "from langchain_core.output_parsers import StrOutputParser\n",
    "from langchain_core.runnables import RunnablePassthrough\n",
    "from operator import itemgetter\n",
    "from langchain_ollama import ChatOllama\n",
    "from langchain import hub\n",
    "from typing_extensions import TypedDict\n",
    "from typing_extensions import Annotated\n",
    "\n",
    "\n",
    "class SQLAgentTool:\n",
    "    \"\"\"\n",
    "    A tool for interacting with a digital media store related SQL database using an LLM (Language Model) to generate and execute SQL queries.\n",
    "\n",
    "    This tool enables users to ask digital media store related questions, which are transformed into SQL queries by a language model.\n",
    "    The SQL queries are executed on the provided SQLite database, and the results are processed by the language model to\n",
    "    generate a final answer for the user.\n",
    "\n",
    "    Attributes:\n",
    "        sql_agent_llm (ChatOllama): An instance of a ChatOllama language model used to generate and process SQL queries.\n",
    "        system_role (str): A system prompt template that guides the language model in answering user questions based on SQL query results.\n",
    "        db (SQLDatabase): An instance of the SQL database used to execute queries.\n",
    "        chain (RunnablePassthrough): A chain of operations that creates SQL queries, executes them, and generates a response.\n",
    "\n",
    "    Methods:\n",
    "        __init__: Initializes the SQLAgentTool by setting up the language model, SQL database, and query-answering pipeline.\n",
    "    \"\"\"\n",
    "\n",
    "    def __init__(self, llm: str, sqldb_directory: str, llm_temerature: float) -> None:\n",
    "        \"\"\"\n",
    "        Initializes the SQLAgentTool with the necessary configurations.\n",
    "\n",
    "        Args:\n",
    "            llm (str): The name of the language model to be used for generating and interpreting SQL queries.\n",
    "            sqldb_directory (str): The directory path where the SQLite database is stored.\n",
    "            llm_temerature (float): The temperature setting for the language model, controlling response randomness.\n",
    "        \"\"\"\n",
    "        self.sql_agent_llm = ChatOllama(\n",
    "            model=llm, temperature=llm_temerature)\n",
    "        self.system_role = \"\"\"Given the following user question, corresponding SQL query, and SQL result, answer the user question.\\n\n",
    "            Question: {question}\\n\n",
    "            SQL Query: {query}\\n\n",
    "            SQL Result: {result}\\n\n",
    "            Answer:\n",
    "            \"\"\"\n",
    "        self.db = SQLDatabase.from_uri(\n",
    "            f\"sqlite:///{sqldb_directory}\")\n",
    "        print(self.db.get_usable_table_names())\n",
    "\n",
    "        execute_query = QuerySQLDatabaseTool(db=self.db)\n",
    "        answer_prompt = PromptTemplate.from_template(\n",
    "            self.system_role)\n",
    "\n",
    "        answer = answer_prompt | self.sql_agent_llm | StrOutputParser()\n",
    "        self.chain = (\n",
    "            RunnablePassthrough.assign(query=self.__write_query).assign(\n",
    "                result=itemgetter(\"query\") | execute_query\n",
    "            )\n",
    "            | answer\n",
    "        )\n",
    "\n",
    "    class State(TypedDict):\n",
    "        question: str\n",
    "        query: str\n",
    "        result: str\n",
    "        answer: str\n",
    "\n",
    "\n",
    "    class QueryOutput(TypedDict):\n",
    "        \"\"\"Generated SQL query.\"\"\"\n",
    "        query: Annotated[str, ..., \"Syntactically valid SQL query.\"]\n",
    "\n",
    "\n",
    "    def __write_query(self, state: State):\n",
    "        query_prompt_template = hub.pull(\"langchain-ai/sql-query-system-prompt\")\n",
    "        prompt = query_prompt_template.invoke({\n",
    "            \"dialect\": self.db.dialect,\n",
    "            \"top_k\": 10,\n",
    "            \"table_info\": self.db.get_table_info(),\n",
    "            \"input\": state[\"question\"],\n",
    "        })\n",
    "        structured_llm = self.sql_agent_llm.with_structured_output(QueryOutput)\n",
    "        result = structured_llm.invoke(prompt)\n",
    "        return result"
   ]
  },
  {
   "cell_type": "code",
   "execution_count": 34,
   "metadata": {},
   "outputs": [],
   "source": [
    "sqlagent_llm = \"qwen2.5:14b\"\n",
    "sqldb_directory = here(\"data/Chinook.db\")\n",
    "sqlagent_llm_temperature = 0.0\n",
    "\n",
    "@tool\n",
    "def query_digital_media_sqldb(query: str) -> str:\n",
    "    \"\"\"Query the Digital Media Store SQL Database and access all the company's information. Input should be a search query.\"\"\"\n",
    "    agent = SQLAgentTool(\n",
    "        llm=sqlagent_llm,\n",
    "        sqldb_directory=sqldb_directory,\n",
    "        llm_temerature=sqlagent_llm_temperature\n",
    "    )\n",
    "    response = agent.chain.invoke({\"question\": query})\n",
    "    return response"
   ]
  },
  {
   "cell_type": "code",
   "execution_count": 35,
   "metadata": {},
   "outputs": [
    {
     "name": "stdout",
     "output_type": "stream",
     "text": [
      "['Album', 'Artist', 'Customer', 'Employee', 'Genre', 'Invoice', 'InvoiceLine', 'MediaType', 'Playlist', 'PlaylistTrack', 'Track']\n",
      "The names of 5 artists from the database are:\n",
      "\n",
      "1. AC/DC\n",
      "2. Accept\n",
      "3. Aerosmith\n",
      "4. Alanis Morissette\n",
      "5. Alice In Chains\n"
     ]
    }
   ],
   "source": [
    "message = \"Give me the names of 5 artists from the database\"\n",
    "response = query_digital_media_sqldb.invoke(message)\n",
    "print(response)"
   ]
  }
 ],
 "metadata": {
  "kernelspec": {
   "display_name": ".venv",
   "language": "python",
   "name": "python3"
  },
  "language_info": {
   "codemirror_mode": {
    "name": "ipython",
    "version": 3
   },
   "file_extension": ".py",
   "mimetype": "text/x-python",
   "name": "python",
   "nbconvert_exporter": "python",
   "pygments_lexer": "ipython3",
   "version": "3.12.4"
  }
 },
 "nbformat": 4,
 "nbformat_minor": 2
}
