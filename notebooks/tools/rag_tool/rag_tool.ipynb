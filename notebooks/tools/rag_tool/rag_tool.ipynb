{
 "cells": [
  {
   "cell_type": "code",
   "execution_count": 9,
   "metadata": {},
   "outputs": [
    {
     "data": {
      "text/plain": [
       "True"
      ]
     },
     "execution_count": 9,
     "metadata": {},
     "output_type": "execute_result"
    }
   ],
   "source": [
    "from langchain_chroma import Chroma\n",
    "\n",
    "from pyprojroot import here\n",
    "from langchain_ollama import OllamaEmbeddings\n",
    "from ollama import Client\n",
    "from dotenv import load_dotenv\n",
    "from pprint import pprint\n",
    "load_dotenv()"
   ]
  },
  {
   "cell_type": "markdown",
   "metadata": {},
   "source": [
    "#### Config"
   ]
  },
  {
   "cell_type": "code",
   "execution_count": 11,
   "metadata": {},
   "outputs": [],
   "source": [
    "EMBEDDING_MODEL = \"nomic-embed-text\"\n",
    "VECTORDB_DIR = \"data/airline_policy_vectordb\"\n",
    "K=2"
   ]
  },
  {
   "cell_type": "markdown",
   "metadata": {},
   "source": [
    "#### Load the VectorDB"
   ]
  },
  {
   "cell_type": "code",
   "execution_count": 12,
   "metadata": {},
   "outputs": [
    {
     "name": "stdout",
     "output_type": "stream",
     "text": [
      "Number of vectors in vectordb: 22 \n",
      "\n",
      "\n"
     ]
    }
   ],
   "source": [
    "vectordb = Chroma(\n",
    "    collection_name=\"rag-chroma\",\n",
    "    persist_directory=str(here(VECTORDB_DIR)),\n",
    "    embedding_function=OllamaEmbeddings(model=EMBEDDING_MODEL)\n",
    ")\n",
    "print(\"Number of vectors in vectordb:\",\n",
    "      vectordb._collection.count(), \"\\n\\n\")"
   ]
  },
  {
   "cell_type": "markdown",
   "metadata": {},
   "source": [
    "#### Sample Query"
   ]
  },
  {
   "cell_type": "code",
   "execution_count": 13,
   "metadata": {},
   "outputs": [],
   "source": [
    "message = \"What is the cancelation rule for a flight ticket at swiss airline policy?\""
   ]
  },
  {
   "cell_type": "markdown",
   "metadata": {},
   "source": [
    "#### Perform the vector Search"
   ]
  },
  {
   "cell_type": "code",
   "execution_count": 14,
   "metadata": {},
   "outputs": [],
   "source": [
    "docs = vectordb.similarity_search(message, k=K)"
   ]
  },
  {
   "cell_type": "code",
   "execution_count": 15,
   "metadata": {},
   "outputs": [
    {
     "data": {
      "text/plain": [
       "[Document(metadata={'page': 9, 'source': '/home/kacper/Documents/Projects/rag_sql_agent/data/unstructured_docs/swiss_airline_policy/swiss_faq.pdf'}, page_content=\"for a refund or may only be able to receive a partial refund. If you booked your flight through a third-party website or\\ntravel agent, you may need to contact them directly to cancel your flight. Always check the terms and conditions of your\\nticket to make sure you understand the cancellation policy and any associated fees or penalties. If you're cancelling your\\nflight due to unforeseen circumstances such as a medical emergency or a natural disaster , Swiss Air may of fer you\\nspecial exemptions or accommodations. What is Swiss Airlines 24 Hour Cancellation Policy? Swiss Airlines has a 24\"),\n",
       " Document(metadata={'page': 8, 'source': '/home/kacper/Documents/Projects/rag_sql_agent/data/unstructured_docs/swiss_airline_policy/swiss_faq.pdf'}, page_content=\"How to Cancel a Swiss Air Flight: 877-\\n5O7-7341 Step-by-Step Guide\\nSwiss Air is a premium airline based in Switzerland that of fers a range of domestic and international flights to\\npassengers. However , sometimes situations arise where passengers may need to cancel their flights. In such cases, it is\\nimportant to understand the Swiss Air Cancellation Policy to avoid any confusion or additional charges.\\nSwiss International Airlines Cancellation Policy In this article, we will provide you with everything you need to know about\\nthe Swiss Air Cancellation Policy , including how to cancel a Swiss Air flight, the fees associated with cancelling a flight,\\nand the refund policy .\\nIf you have booked a flight with Swiss Airlines but need to cancel it, it's important to understand their cancellation policy\\nto avoid any unnecessary fees or charges. Swiss Airlines of fers dif ferent fare types, each with their own specific\\ncancellation terms and conditions. The most flexible fare types such as Flex and Business Flex allow you to cancel your\\nflight up to 24 hours before departure without any penalty . For other fare types, cancellation fees may apply . If you cancel\\nyour Swiss Airlines flight outside of the 24-hour window , cancellation fees will be charged depending on your fare type\\nand the time of cancellation. For example, if you cancel a non-flexible economy class ticket, a cancellation fee will be\\ncharged. The closer you cancel to the departure date, the higher the cancellation fee. In some cases, Swiss Airlines may\\nallow you to make changes to your flight instead of cancelling it outright. However , these changes may also come with\\nfees or penalties depending on your fare type and the type of change requested. If Swiss Airlines cancels your flight, you\\nmay be entitled to a full refund or rebooking on another flight. However , if the cancellation is due to extraordinary\\ncircumstances such as bad weather or political unrest, Swiss Airlines may not be obligated to of fer any compensation. In\\nsummary , Swiss Airlines' cancellation policy varies depending on your fare type and the time of cancellation. T o avoid any\\nunnecessary fees or charges, it's important to familiarise yourself with the terms and conditions of your ticket and to\\ncontact Swiss Airlines as soon as possible if you need to make changes or cancel your flight.\")]"
      ]
     },
     "execution_count": 15,
     "metadata": {},
     "output_type": "execute_result"
    }
   ],
   "source": [
    "docs"
   ]
  },
  {
   "cell_type": "markdown",
   "metadata": {},
   "source": [
    "#### Prepare the prompt for the GPT model"
   ]
  },
  {
   "cell_type": "code",
   "execution_count": 16,
   "metadata": {},
   "outputs": [],
   "source": [
    "question = \"# User new question:\\n\" + message\n",
    "retrieved_content = \"\"\n",
    "for doc in docs:\n",
    "    retrieved_content += f\"{doc.page_content}\\n\\n\"\n",
    "prompt = f\"# Content:\\n{retrieved_content}\\n\\n{question}\""
   ]
  },
  {
   "cell_type": "code",
   "execution_count": 17,
   "metadata": {},
   "outputs": [
    {
     "name": "stdout",
     "output_type": "stream",
     "text": [
      "('# Content:\\n'\n",
      " 'for a refund or may only be able to receive a partial refund. If you booked '\n",
      " 'your flight through a third-party website or\\n'\n",
      " 'travel agent, you may need to contact them directly to cancel your flight. '\n",
      " 'Always check the terms and conditions of your\\n'\n",
      " 'ticket to make sure you understand the cancellation policy and any '\n",
      " \"associated fees or penalties. If you're cancelling your\\n\"\n",
      " 'flight due to unforeseen circumstances such as a medical emergency or a '\n",
      " 'natural disaster , Swiss Air may of fer you\\n'\n",
      " 'special exemptions or accommodations. What is Swiss Airlines 24 Hour '\n",
      " 'Cancellation Policy? Swiss Airlines has a 24\\n'\n",
      " '\\n'\n",
      " 'How to Cancel a Swiss Air Flight: 877-\\n'\n",
      " '5O7-7341 Step-by-Step Guide\\n'\n",
      " 'Swiss Air is a premium airline based in Switzerland that of fers a range of '\n",
      " 'domestic and international flights to\\n'\n",
      " 'passengers. However , sometimes situations arise where passengers may need '\n",
      " 'to cancel their flights. In such cases, it is\\n'\n",
      " 'important to understand the Swiss Air Cancellation Policy to avoid any '\n",
      " 'confusion or additional charges.\\n'\n",
      " 'Swiss International Airlines Cancellation Policy In this article, we will '\n",
      " 'provide you with everything you need to know about\\n'\n",
      " 'the Swiss Air Cancellation Policy , including how to cancel a Swiss Air '\n",
      " 'flight, the fees associated with cancelling a flight,\\n'\n",
      " 'and the refund policy .\\n'\n",
      " \"If you have booked a flight with Swiss Airlines but need to cancel it, it's \"\n",
      " 'important to understand their cancellation policy\\n'\n",
      " 'to avoid any unnecessary fees or charges. Swiss Airlines of fers dif ferent '\n",
      " 'fare types, each with their own specific\\n'\n",
      " 'cancellation terms and conditions. The most flexible fare types such as Flex '\n",
      " 'and Business Flex allow you to cancel your\\n'\n",
      " 'flight up to 24 hours before departure without any penalty . For other fare '\n",
      " 'types, cancellation fees may apply . If you cancel\\n'\n",
      " 'your Swiss Airlines flight outside of the 24-hour window , cancellation fees '\n",
      " 'will be charged depending on your fare type\\n'\n",
      " 'and the time of cancellation. For example, if you cancel a non-flexible '\n",
      " 'economy class ticket, a cancellation fee will be\\n'\n",
      " 'charged. The closer you cancel to the departure date, the higher the '\n",
      " 'cancellation fee. In some cases, Swiss Airlines may\\n'\n",
      " 'allow you to make changes to your flight instead of cancelling it outright. '\n",
      " 'However , these changes may also come with\\n'\n",
      " 'fees or penalties depending on your fare type and the type of change '\n",
      " 'requested. If Swiss Airlines cancels your flight, you\\n'\n",
      " 'may be entitled to a full refund or rebooking on another flight. However , '\n",
      " 'if the cancellation is due to extraordinary\\n'\n",
      " 'circumstances such as bad weather or political unrest, Swiss Airlines may '\n",
      " 'not be obligated to of fer any compensation. In\\n'\n",
      " \"summary , Swiss Airlines' cancellation policy varies depending on your fare \"\n",
      " 'type and the time of cancellation. T o avoid any\\n'\n",
      " \"unnecessary fees or charges, it's important to familiarise yourself with the \"\n",
      " 'terms and conditions of your ticket and to\\n'\n",
      " 'contact Swiss Airlines as soon as possible if you need to make changes or '\n",
      " 'cancel your flight.\\n'\n",
      " '\\n'\n",
      " '\\n'\n",
      " '\\n'\n",
      " '# User new question:\\n'\n",
      " 'What is the cancelation rule for a flight ticket at swiss airline policy?')\n"
     ]
    }
   ],
   "source": [
    "pprint(prompt)"
   ]
  },
  {
   "cell_type": "code",
   "execution_count": null,
   "metadata": {},
   "outputs": [],
   "source": [
    "client = Client()\n",
    "response = client.chat(\n",
    "    model='llama3-groq-tool-use',\n",
    "    messages=[\n",
    "        {\n",
    "            \"role\": \"system\",\n",
    "            \"content\": \"You will receive a user's query and possible content where the answer might be. If the answer is found, provide it, if not, state that the answer does not exist.\"\n",
    "        },\n",
    "        {\n",
    "            \"role\": \"user\",\n",
    "            \"content\": prompt\n",
    "        }\n",
    "    ]\n",
    ")\n",
    "\n",
    "assistant_response = response['message']['content']"
   ]
  },
  {
   "cell_type": "code",
   "execution_count": 20,
   "metadata": {},
   "outputs": [
    {
     "name": "stdout",
     "output_type": "stream",
     "text": [
      "(\"According to Swiss Air's policy, if you have booked a flexible fare type \"\n",
      " 'like Flex or Business Flex, you can cancel your flight up to 24 hours before '\n",
      " 'departure without any penalty. For other fare types, cancellation fees will '\n",
      " 'apply depending on the time of cancellation. The closer you cancel to the '\n",
      " 'departure date, the higher the cancellation fee.')\n"
     ]
    }
   ],
   "source": [
    "pprint(assistant_response)"
   ]
  },
  {
   "cell_type": "markdown",
   "metadata": {},
   "source": [
    "#### Rag Tool designe using LangChain"
   ]
  },
  {
   "cell_type": "code",
   "execution_count": 21,
   "metadata": {},
   "outputs": [],
   "source": [
    "from langchain_core.tools import tool\n",
    "\n",
    "@tool\n",
    "def lookup_swiss_airline_policy(query: str)->str:\n",
    "    \"\"\"Search within the Swiss Airline's company policies to check whether certain options are permitted. Input should be a search query.\"\"\"\n",
    "    vectordb = Chroma(\n",
    "    collection_name=\"rag-chroma\",\n",
    "    persist_directory=str(here(VECTORDB_DIR)),\n",
    "    embedding_function=OllamaEmbeddings(model=EMBEDDING_MODEL)\n",
    "    )\n",
    "    docs = vectordb.similarity_search(query, k=K)\n",
    "    return \"\\n\\n\".join([doc.page_content for doc in docs])"
   ]
  },
  {
   "cell_type": "code",
   "execution_count": 22,
   "metadata": {},
   "outputs": [
    {
     "name": "stdout",
     "output_type": "stream",
     "text": [
      "lookup_swiss_airline_policy\n",
      "{'query': {'title': 'Query', 'type': 'string'}}\n",
      "Search within the Swiss Airline's company policies to check whether certain options are permitted. Input should be a search query.\n"
     ]
    }
   ],
   "source": [
    "print(lookup_swiss_airline_policy.name)\n",
    "print(lookup_swiss_airline_policy.args)\n",
    "print(lookup_swiss_airline_policy.description)"
   ]
  },
  {
   "cell_type": "code",
   "execution_count": 23,
   "metadata": {},
   "outputs": [
    {
     "name": "stdout",
     "output_type": "stream",
     "text": [
      "('for a refund or may only be able to receive a partial refund. If you booked '\n",
      " 'your flight through a third-party website or\\n'\n",
      " 'travel agent, you may need to contact them directly to cancel your flight. '\n",
      " 'Always check the terms and conditions of your\\n'\n",
      " 'ticket to make sure you understand the cancellation policy and any '\n",
      " \"associated fees or penalties. If you're cancelling your\\n\"\n",
      " 'flight due to unforeseen circumstances such as a medical emergency or a '\n",
      " 'natural disaster , Swiss Air may of fer you\\n'\n",
      " 'special exemptions or accommodations. What is Swiss Airlines 24 Hour '\n",
      " 'Cancellation Policy? Swiss Airlines has a 24\\n'\n",
      " '\\n'\n",
      " 'circumstances such as bad weather or political unrest, Swiss Airlines may '\n",
      " 'not be obligated to of fer any compensation. In\\n'\n",
      " \"summary , Swiss Airlines' cancellation policy varies depending on your fare \"\n",
      " 'type and the time of cancellation. T o avoid any\\n'\n",
      " \"unnecessary fees or charges, it's important to familiarise yourself with the \"\n",
      " 'terms and conditions of your ticket and to\\n'\n",
      " 'contact Swiss Airlines as soon as possible if you need to make changes or '\n",
      " 'cancel your flight.\\n'\n",
      " 'How to Cancel a Swiss Air Flight? If you need to cancel a Swiss Air flight, '\n",
      " 'you can do so online, through the mobile app,\\n'\n",
      " 'or by contacting the Swiss Air Customer Service team. T o cancel a flight '\n",
      " 'online, you can log in to your Swiss Air account\\n'\n",
      " 'and follow the instructions provided.\\n'\n",
      " 'Swiss Air Flight Cancellations Online If you need to cancel a Swiss Air '\n",
      " 'flight, you can do so by following these steps:\\n'\n",
      " 'Visit the Swiss Air website or app and navigate to the \"My Bookings\" '\n",
      " 'section. Log in with your booking details. Find the\\n'\n",
      " 'flight you want to cancel and click on the \"Cancel\" button. Follow the '\n",
      " 'prompts to confirm your cancellation. Review the\\n'\n",
      " 'cancellation policy and any fees that may apply . If eligible for a refund, '\n",
      " 'submit a refund request through the website or\\n'\n",
      " 'app. Alternatively , you can also cancel your Swiss Air flight by contacting '\n",
      " 'their customer service department via phone,\\n'\n",
      " 'email or live chat. Be sure to have your booking details ready when you '\n",
      " 'contact them. Keep in mind that depending on\\n'\n",
      " 'the fare type and the timing of your cancellation, you may be subject to '\n",
      " 'fees or penalties.\\n'\n",
      " 'If you choose to cancel your flight through the Swiss Air Customer Service '\n",
      " 'team, you can contact them through the\\n'\n",
      " 'phone or email. It is important to note that cancellation fees may apply '\n",
      " 'depending on the type of ticket you have\\n'\n",
      " 'purchased.\\n'\n",
      " 'Swiss Air Flight Cancellations via Call Step 1: Find the Customer Service '\n",
      " 'Number')\n"
     ]
    }
   ],
   "source": [
    "pprint(lookup_swiss_airline_policy.invoke(\"can I cancel my ticket?\"))"
   ]
  }
 ],
 "metadata": {
  "kernelspec": {
   "display_name": ".venv",
   "language": "python",
   "name": "python3"
  },
  "language_info": {
   "codemirror_mode": {
    "name": "ipython",
    "version": 3
   },
   "file_extension": ".py",
   "mimetype": "text/x-python",
   "name": "python",
   "nbconvert_exporter": "python",
   "pygments_lexer": "ipython3",
   "version": "3.12.4"
  }
 },
 "nbformat": 4,
 "nbformat_minor": 2
}
