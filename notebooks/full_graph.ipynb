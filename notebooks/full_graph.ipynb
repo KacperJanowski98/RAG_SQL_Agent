{
 "cells": [
  {
   "cell_type": "markdown",
   "metadata": {},
   "source": [
    "### Design the full graph using 3 tools: search_tool, RAG tool and SQL-agent for travel database"
   ]
  },
  {
   "cell_type": "code",
   "execution_count": 1,
   "metadata": {},
   "outputs": [
    {
     "data": {
      "text/plain": [
       "True"
      ]
     },
     "execution_count": 1,
     "metadata": {},
     "output_type": "execute_result"
    }
   ],
   "source": [
    "import os\n",
    "from dotenv import load_dotenv\n",
    "from pyprojroot import here\n",
    "load_dotenv()"
   ]
  },
  {
   "cell_type": "code",
   "execution_count": 2,
   "metadata": {},
   "outputs": [],
   "source": [
    "os.environ['OPENAI_API_KEY'] = os.getenv(\"OPEN_AI_API_KEY\")\n",
    "os.environ['TAVILY_API_KEY'] = os.getenv(\"TAVILY_API_KEY\")"
   ]
  },
  {
   "cell_type": "markdown",
   "metadata": {},
   "source": [
    "### 1. Initialize The Tools\n",
    "\n",
    "#### 1.1 RAG tool designe"
   ]
  },
  {
   "cell_type": "code",
   "execution_count": 3,
   "metadata": {},
   "outputs": [
    {
     "name": "stdout",
     "output_type": "stream",
     "text": [
      "name='lookup_policy' description='Consult the company policies to check whether certain options are permitted.' args_schema=<class 'langchain_core.utils.pydantic.lookup_policy'> func=<function lookup_policy at 0x76ad386d5f80>\n"
     ]
    }
   ],
   "source": [
    "from langchain_chroma import Chroma\n",
    "from langchain_ollama import OllamaEmbeddings\n",
    "from langchain_core.tools import tool\n",
    "\n",
    "EMBEDDING_MODEL = \"nomic-embed-text\"\n",
    "VECTORDB_DIR = \"data/airline_policy_vectordb\"\n",
    "K = 2\n",
    "\n",
    "@tool\n",
    "def lookup_policy(query: str)->str:\n",
    "    \"\"\"Consult the company policies to check whether certain options are permitted.\"\"\"\n",
    "    vectordb = Chroma(\n",
    "    collection_name=\"rag-chroma\",\n",
    "    persist_directory=str(here(VECTORDB_DIR)),\n",
    "    embedding_function=OllamaEmbeddings(model=EMBEDDING_MODEL)\n",
    "    )\n",
    "    docs = vectordb.similarity_search(query, k=K)\n",
    "    return \"\\n\\n\".join([doc.page_content for doc in docs])\n",
    "\n",
    "print(lookup_policy)"
   ]
  },
  {
   "cell_type": "markdown",
   "metadata": {},
   "source": [
    "Test the RAG tool"
   ]
  },
  {
   "cell_type": "code",
   "execution_count": 4,
   "metadata": {},
   "outputs": [
    {
     "data": {
      "text/plain": [
       "'for a refund or may only be able to receive a partial refund. If you booked your flight through a third-party website or\\ntravel agent, you may need to contact them directly to cancel your flight. Always check the terms and conditions of your\\nticket to make sure you understand the cancellation policy and any associated fees or penalties. If you\\'re cancelling your\\nflight due to unforeseen circumstances such as a medical emergency or a natural disaster , Swiss Air may of fer you\\nspecial exemptions or accommodations. What is Swiss Airlines 24 Hour Cancellation Policy? Swiss Airlines has a 24\\n\\ncircumstances such as bad weather or political unrest, Swiss Airlines may not be obligated to of fer any compensation. In\\nsummary , Swiss Airlines\\' cancellation policy varies depending on your fare type and the time of cancellation. T o avoid any\\nunnecessary fees or charges, it\\'s important to familiarise yourself with the terms and conditions of your ticket and to\\ncontact Swiss Airlines as soon as possible if you need to make changes or cancel your flight.\\nHow to Cancel a Swiss Air Flight? If you need to cancel a Swiss Air flight, you can do so online, through the mobile app,\\nor by contacting the Swiss Air Customer Service team. T o cancel a flight online, you can log in to your Swiss Air account\\nand follow the instructions provided.\\nSwiss Air Flight Cancellations Online If you need to cancel a Swiss Air flight, you can do so by following these steps:\\nVisit the Swiss Air website or app and navigate to the \"My Bookings\" section. Log in with your booking details. Find the\\nflight you want to cancel and click on the \"Cancel\" button. Follow the prompts to confirm your cancellation. Review the\\ncancellation policy and any fees that may apply . If eligible for a refund, submit a refund request through the website or\\napp. Alternatively , you can also cancel your Swiss Air flight by contacting their customer service department via phone,\\nemail or live chat. Be sure to have your booking details ready when you contact them. Keep in mind that depending on\\nthe fare type and the timing of your cancellation, you may be subject to fees or penalties.\\nIf you choose to cancel your flight through the Swiss Air Customer Service team, you can contact them through the\\nphone or email. It is important to note that cancellation fees may apply depending on the type of ticket you have\\npurchased.\\nSwiss Air Flight Cancellations via Call Step 1: Find the Customer Service Number'"
      ]
     },
     "execution_count": 4,
     "metadata": {},
     "output_type": "execute_result"
    }
   ],
   "source": [
    "lookup_policy.invoke(\"can I cancel my ticket?\")"
   ]
  },
  {
   "cell_type": "markdown",
   "metadata": {},
   "source": [
    "#### 1.2 Search tool designe"
   ]
  },
  {
   "cell_type": "code",
   "execution_count": 5,
   "metadata": {},
   "outputs": [],
   "source": [
    "from langchain_community.tools.tavily_search import TavilySearchResults\n",
    "\n",
    "search_tool = TavilySearchResults(max_results=2)"
   ]
  },
  {
   "cell_type": "markdown",
   "metadata": {},
   "source": [
    "Test the Search Tools"
   ]
  },
  {
   "cell_type": "code",
   "execution_count": 6,
   "metadata": {},
   "outputs": [
    {
     "data": {
      "text/plain": [
       "[{'url': 'https://langchain-ai.github.io/langgraph/concepts/low_level/',\n",
       "  'content': 'Nodes¶ In LangGraph, nodes are typically python functions (sync or async) where the first positional argument is the state, and (optionally), the second positional argument is a \"config\", containing optional configurable parameters (such as a thread_id). Similar to NetworkX, you add these nodes to a graph using the add_node method:'},\n",
       " {'url': 'https://medium.com/@cplog/introduction-to-langgraph-a-beginners-guide-14f9be027141',\n",
       "  'content': 'Nodes: Nodes are the building blocks of your LangGraph. Each node represents a function or a computation step. You define nodes to perform specific tasks, such as processing input, making'}]"
      ]
     },
     "execution_count": 6,
     "metadata": {},
     "output_type": "execute_result"
    }
   ],
   "source": [
    "search_tool.invoke(\"What's a 'node' in LangGraph?\")"
   ]
  },
  {
   "cell_type": "markdown",
   "metadata": {},
   "source": [
    "#### 1.3 SQL agent tool designe"
   ]
  },
  {
   "cell_type": "code",
   "execution_count": 7,
   "metadata": {},
   "outputs": [],
   "source": [
    "from langchain_community.utilities import SQLDatabase\n",
    "from langchain.chains import create_sql_query_chain\n",
    "from langchain_community.tools.sql_database.tool import QuerySQLDatabaseTool\n",
    "from langchain_community.tools.sql_database.tool import QuerySQLDataBaseTool\n",
    "from langchain_core.prompts import PromptTemplate\n",
    "from langchain_core.output_parsers import StrOutputParser\n",
    "from langchain_core.runnables import RunnablePassthrough\n",
    "from operator import itemgetter\n",
    "from langchain_ollama import ChatOllama\n",
    "from langchain import hub\n",
    "from typing_extensions import TypedDict\n",
    "from typing_extensions import Annotated"
   ]
  },
  {
   "cell_type": "code",
   "execution_count": 27,
   "metadata": {},
   "outputs": [],
   "source": [
    "class State(TypedDict):\n",
    "    question: str\n",
    "    query: str\n",
    "    result: str\n",
    "    answer: str\n",
    "\n",
    "class QueryOutput(TypedDict):\n",
    "    \"\"\"Generated SQL query.\"\"\"\n",
    "\n",
    "    query: Annotated[str, ..., \"Syntactically valid SQL query.\"]\n",
    "\n",
    "\n",
    "query_prompt_template = hub.pull(\"langchain-ai/sql-query-system-prompt\")\n",
    "\n",
    "sqldb_directory = here(\"data/Chinook.db\")\n",
    "db = SQLDatabase.from_uri(\n",
    "    f\"sqlite:///{sqldb_directory}\")\n",
    "\n",
    "llm = ChatOllama(model=\"qwen2.5:14b\", temperature=0)\n",
    "\n",
    "execute_query = QuerySQLDatabaseTool(db=db)\n",
    "\n",
    "answer_prompt = PromptTemplate.from_template(\n",
    "    \"\"\"Given the following user question, corresponding SQL query, and SQL result, answer the user question in a funny way.\n",
    "\n",
    "Question: {question}\n",
    "SQL Query: {query}\n",
    "SQL Result: {result}\n",
    "Answer: \"\"\"\n",
    ")    \n",
    "\n",
    "def write_query(state: State):\n",
    "    prompt = query_prompt_template.invoke({\n",
    "        \"dialect\": db.dialect,\n",
    "        \"top_k\": 10,\n",
    "        \"table_info\": db.get_table_info(),\n",
    "        \"input\": state[\"question\"],\n",
    "    })\n",
    "    structured_llm = llm.with_structured_output(QueryOutput)\n",
    "    result = structured_llm.invoke(prompt)\n",
    "    return result\n",
    "\n",
    "answer = answer_prompt | llm | StrOutputParser()\n",
    "# Build the chain\n",
    "chain = (\n",
    "    RunnablePassthrough.assign(query=write_query).assign(\n",
    "        result=itemgetter(\"query\") | execute_query\n",
    "    )\n",
    "    | answer\n",
    ")\n",
    "\n",
    "@tool\n",
    "def query_sqldb(query):\n",
    "    \"\"\"Query the Swiss Airline SQL Database and access all the company's information. Input should be a search query.\"\"\"\n",
    "    response = chain.invoke({\"question\": query})\n",
    "    return response"
   ]
  },
  {
   "cell_type": "code",
   "execution_count": 28,
   "metadata": {},
   "outputs": [
    {
     "name": "stdout",
     "output_type": "stream",
     "text": [
      "Ah, I see you're curious about our little office family! Well, if numbers could talk and these told me a story, they'd say there's a grand total of eight employees in our merry band. So, to answer your question directly (and perhaps a bit more formally than needed): the employee count is 8. But hey, who needs words when you can just picture eight tiny dancing figures with top hats and canes? Enjoy your day, and remember, every employee makes the world go 'round... or at least our office does!\n"
     ]
    }
   ],
   "source": [
    "message = \"How many employees are there\"\n",
    "# message = \"How many tables do I have in the database? and what are their names?\"\n",
    "response = query_sqldb.invoke(message)\n",
    "print(response)"
   ]
  },
  {
   "cell_type": "markdown",
   "metadata": {},
   "source": [
    "Wrap up the tools into a list"
   ]
  },
  {
   "cell_type": "code",
   "execution_count": 43,
   "metadata": {},
   "outputs": [],
   "source": [
    "tools = [search_tool, lookup_policy, query_sqldb]"
   ]
  },
  {
   "cell_type": "markdown",
   "metadata": {},
   "source": [
    "#### Load the LLM for the primary agent and bind it with the tools"
   ]
  },
  {
   "cell_type": "code",
   "execution_count": 44,
   "metadata": {},
   "outputs": [],
   "source": [
    "llm = ChatOllama(model=\"qwen2.5:14b\", temperature=0)\n",
    "# Tell the LLM which tools it can call\n",
    "llm_with_tools = llm.bind_tools(tools)"
   ]
  },
  {
   "cell_type": "markdown",
   "metadata": {},
   "source": [
    "### 2. Initialize the Graph State"
   ]
  },
  {
   "cell_type": "markdown",
   "metadata": {},
   "source": [
    "Define our StateGraph's state as a typed dictionary containing an append-only list of messages. These messages form the chat history, which is all the state our chatbot needs."
   ]
  },
  {
   "cell_type": "code",
   "execution_count": 45,
   "metadata": {},
   "outputs": [],
   "source": [
    "from typing import Annotated\n",
    "from typing_extensions import TypedDict\n",
    "from langgraph.graph import StateGraph, START\n",
    "from langgraph.graph.message import add_messages\n",
    "\n",
    "\n",
    "class StateG(TypedDict):\n",
    "    messages: Annotated[list, add_messages]\n",
    "\n",
    "\n",
    "graph_builder = StateGraph(StateG)"
   ]
  },
  {
   "cell_type": "markdown",
   "metadata": {},
   "source": [
    "### 3. Define the Graph Nodes"
   ]
  },
  {
   "cell_type": "markdown",
   "metadata": {},
   "source": [
    "#### 3.1 First node: chatbot"
   ]
  },
  {
   "cell_type": "code",
   "execution_count": 46,
   "metadata": {},
   "outputs": [
    {
     "data": {
      "text/plain": [
       "<langgraph.graph.state.StateGraph at 0x76acbcd98800>"
      ]
     },
     "execution_count": 46,
     "metadata": {},
     "output_type": "execute_result"
    }
   ],
   "source": [
    "def chatbot(state: StateG):\n",
    "    return {\"messages\": [llm_with_tools.invoke(state[\"messages\"])]}\n",
    "\n",
    "\n",
    "graph_builder.add_node(\"chatbot\", chatbot)"
   ]
  },
  {
   "cell_type": "markdown",
   "metadata": {},
   "source": [
    "Next, we need to create a function that will run the tools when they are needed. To do this, we'll add the tools to a new node.\n",
    "\n",
    "In the example below, we'll build a BasicToolNode. This node will check the latest message and, if it contains a request to use a tool, it will run the appropriate tool. This works because many language models (like Anthropic, OpenAI, and Google Gemini) support tool usage."
   ]
  },
  {
   "cell_type": "markdown",
   "metadata": {},
   "source": [
    "#### 3.2 Second node: BasicToolNode that runs the appropriate tool based on the primary agent's output"
   ]
  },
  {
   "cell_type": "code",
   "execution_count": 47,
   "metadata": {},
   "outputs": [
    {
     "data": {
      "text/plain": [
       "<langgraph.graph.state.StateGraph at 0x76acbcd98800>"
      ]
     },
     "execution_count": 47,
     "metadata": {},
     "output_type": "execute_result"
    }
   ],
   "source": [
    "import json\n",
    "from langchain_core.messages import ToolMessage\n",
    "\n",
    "\n",
    "class BasicToolNode:\n",
    "    \"\"\"A node that runs the tools requested in the last AIMessage.\"\"\"\n",
    "\n",
    "    def __init__(self, tools: list) -> None:\n",
    "        self.tools_by_name = {tool.name: tool for tool in tools}\n",
    "\n",
    "    def __call__(self, inputs: dict):\n",
    "        if messages := inputs.get(\"messages\", []):\n",
    "            message = messages[-1]\n",
    "        else:\n",
    "            raise ValueError(\"No message found in input\")\n",
    "        outputs = []\n",
    "        for tool_call in message.tool_calls:\n",
    "            tool_result = self.tools_by_name[tool_call[\"name\"]].invoke(\n",
    "                tool_call[\"args\"]\n",
    "            )\n",
    "            outputs.append(\n",
    "                ToolMessage(\n",
    "                    content=json.dumps(tool_result),\n",
    "                    name=tool_call[\"name\"],\n",
    "                    tool_call_id=tool_call[\"id\"],\n",
    "                )\n",
    "            )\n",
    "        return {\"messages\": outputs}\n",
    "\n",
    "\n",
    "tool_node = BasicToolNode(tools=[search_tool, lookup_policy, query_sqldb])\n",
    "graph_builder.add_node(\"tools\", tool_node)"
   ]
  },
  {
   "cell_type": "markdown",
   "metadata": {},
   "source": [
    "### 4. Define the entry point and graph edges"
   ]
  },
  {
   "cell_type": "markdown",
   "metadata": {},
   "source": [
    "Approach 1"
   ]
  },
  {
   "cell_type": "code",
   "execution_count": 48,
   "metadata": {},
   "outputs": [
    {
     "data": {
      "text/plain": [
       "<langgraph.graph.state.StateGraph at 0x76acbcd98800>"
      ]
     },
     "execution_count": 48,
     "metadata": {},
     "output_type": "execute_result"
    }
   ],
   "source": [
    "from typing import Literal\n",
    "\n",
    "\n",
    "def route_tools(\n",
    "    state: StateG,\n",
    ") -> Literal[\"tools\", \"__end__\"]:\n",
    "    \"\"\"\n",
    "    Use in the conditional_edge to route to the ToolNode if the last message\n",
    "    has tool calls. Otherwise, route to the end.\n",
    "    \"\"\"\n",
    "    if isinstance(state, list):\n",
    "        ai_message = state[-1]\n",
    "    elif messages := state.get(\"messages\", []):\n",
    "        ai_message = messages[-1]\n",
    "    else:\n",
    "        raise ValueError(f\"No messages found in input state to tool_edge: {state}\")\n",
    "    if hasattr(ai_message, \"tool_calls\") and len(ai_message.tool_calls) > 0:\n",
    "        return \"tools\"\n",
    "    return \"__end__\"\n",
    "\n",
    "\n",
    "# The `tools_condition` function returns \"tools\" if the chatbot asks to use a tool, and \"__end__\" if\n",
    "# it is fine directly responding. This conditional routing defines the main agent loop.\n",
    "graph_builder.add_conditional_edges(\n",
    "    \"chatbot\",\n",
    "    route_tools,\n",
    "    # The following dictionary lets you tell the graph to interpret the condition's outputs as a specific node\n",
    "    # It defaults to the identity function, but if you\n",
    "    # want to use a node named something else apart from \"tools\",\n",
    "    # You can update the value of the dictionary to something else\n",
    "    # e.g., \"tools\": \"my_tools\"\n",
    "    {\"tools\": \"tools\", \"__end__\": \"__end__\"},\n",
    ")\n",
    "# Any time a tool is called, we return to the chatbot to decide the next step\n",
    "graph_builder.add_edge(\"tools\", \"chatbot\")\n",
    "graph_builder.add_edge(START, \"chatbot\")"
   ]
  },
  {
   "cell_type": "markdown",
   "metadata": {},
   "source": [
    "Approach 2"
   ]
  },
  {
   "cell_type": "code",
   "execution_count": 49,
   "metadata": {},
   "outputs": [
    {
     "data": {
      "text/plain": [
       "<langgraph.graph.state.StateGraph at 0x76acbcd98800>"
      ]
     },
     "execution_count": 49,
     "metadata": {},
     "output_type": "execute_result"
    }
   ],
   "source": [
    "from langgraph.graph import END, MessagesState\n",
    "from typing import Literal\n",
    "\n",
    "# Define the function that determines whether to continue or not\n",
    "def should_continue(state: MessagesState) -> Literal[\"tools\", END]:\n",
    "    messages = state['messages']\n",
    "    last_message = messages[-1]\n",
    "    # If the LLM makes a tool call, then we route to the \"tools\" node\n",
    "    if last_message.tool_calls:\n",
    "        return \"tools\"\n",
    "    # Otherwise, we stop (reply to the user)\n",
    "    return END\n",
    "\n",
    "graph_builder.add_conditional_edges(\n",
    "    \"chatbot\",\n",
    "    should_continue,\n",
    "    [\"tools\", END],\n",
    ")\n",
    "# Any time a tool is called, we return to the chatbot to decide the next step\n",
    "graph_builder.add_edge(\"tools\", \"chatbot\")\n",
    "graph_builder.add_edge(START, \"chatbot\")"
   ]
  },
  {
   "cell_type": "markdown",
   "metadata": {},
   "source": [
    "### 5. Compile the graph"
   ]
  },
  {
   "cell_type": "code",
   "execution_count": 50,
   "metadata": {},
   "outputs": [],
   "source": [
    "from langgraph.checkpoint.memory import MemorySaver\n",
    "\n",
    "memory = MemorySaver()\n",
    "graph = graph_builder.compile(checkpointer=memory)"
   ]
  },
  {
   "cell_type": "code",
   "execution_count": 51,
   "metadata": {},
   "outputs": [
    {
     "data": {
      "image/png": "[encoded data removed]",
      "text/plain": [
       "<IPython.core.display.Image object>"
      ]
     },
     "metadata": {},
     "output_type": "display_data"
    }
   ],
   "source": [
    "from IPython.display import Image, display\n",
    "\n",
    "try:\n",
    "    display(Image(graph.get_graph().draw_mermaid_png()))\n",
    "except Exception:\n",
    "    # This requires some extra dependencies and is optional\n",
    "    pass"
   ]
  },
  {
   "cell_type": "code",
   "execution_count": 52,
   "metadata": {},
   "outputs": [],
   "source": [
    "save = False\n",
    "\n",
    "if save:\n",
    "    from PIL import Image as PILImage\n",
    "    import io\n",
    "    # Assuming graph.get_graph().draw_mermaid_png() returns PNG binary data\n",
    "    try:\n",
    "        # Generate the PNG image from the graph\n",
    "        png_data = graph.get_graph().draw_mermaid_png()\n",
    "        \n",
    "        # Convert the binary data into an image\n",
    "        img = PILImage.open(io.BytesIO(png_data))\n",
    "        \n",
    "        # Save the image locally with 300 DPI\n",
    "        img.save('output_image.png', 'PNG', dpi=(300, 300))\n",
    "        \n",
    "        print(\"Image saved successfully with 300 DPI.\")\n",
    "    except Exception as e:\n",
    "        print(f\"Error: {e}\")"
   ]
  },
  {
   "cell_type": "markdown",
   "metadata": {},
   "source": [
    "### 6. Execute the graph"
   ]
  },
  {
   "cell_type": "code",
   "execution_count": 53,
   "metadata": {},
   "outputs": [],
   "source": [
    "\n",
    "config = {\"configurable\": {\"thread_id\": \"1\"}}"
   ]
  },
  {
   "cell_type": "markdown",
   "metadata": {},
   "source": [
    "First query"
   ]
  },
  {
   "cell_type": "markdown",
   "metadata": {},
   "source": [
    "Approach 1: Print all the steps the the system goes through ti get the final output"
   ]
  },
  {
   "cell_type": "code",
   "execution_count": 54,
   "metadata": {},
   "outputs": [
    {
     "name": "stdout",
     "output_type": "stream",
     "text": [
      "================================\u001b[1m Human Message \u001b[0m=================================\n",
      "\n",
      "Hi there! My name is Farzad.\n",
      "==================================\u001b[1m Ai Message \u001b[0m==================================\n",
      "\n",
      "Hello Farzad! How can I assist you today?\n"
     ]
    }
   ],
   "source": [
    "user_input = \"Hi there! My name is Farzad.\"\n",
    "\n",
    "# The config is the **second positional argument** to stream() or invoke()!\n",
    "events = graph.stream(\n",
    "    {\"messages\": [(\"user\", user_input)]}, config, stream_mode=\"values\"\n",
    ")\n",
    "for event in events:\n",
    "    event[\"messages\"][-1].pretty_print()"
   ]
  },
  {
   "cell_type": "markdown",
   "metadata": {},
   "source": [
    "Approach 2: Just print the final output"
   ]
  },
  {
   "cell_type": "code",
   "execution_count": 55,
   "metadata": {},
   "outputs": [
    {
     "data": {
      "text/plain": [
       "\"Hello Farzad! It's nice to meet you. Is there something specific you'd like help with or discuss?\""
      ]
     },
     "execution_count": 55,
     "metadata": {},
     "output_type": "execute_result"
    }
   ],
   "source": [
    "from langchain_core.messages import HumanMessage\n",
    "user_input = \"Hi there! My name is Farzad.\"\n",
    "\n",
    "# Use the Runnable\n",
    "final_state = graph.invoke(\n",
    "    {\"messages\": [HumanMessage(content=user_input)]},\n",
    "    config=config\n",
    ")\n",
    "final_state[\"messages\"][-1].content"
   ]
  },
  {
   "cell_type": "markdown",
   "metadata": {},
   "source": [
    "Second query"
   ]
  },
  {
   "cell_type": "code",
   "execution_count": 56,
   "metadata": {},
   "outputs": [
    {
     "name": "stdout",
     "output_type": "stream",
     "text": [
      "================================\u001b[1m Human Message \u001b[0m=================================\n",
      "\n",
      "Can I cancel my ticket 10 hours before the flight?\n",
      "==================================\u001b[1m Ai Message \u001b[0m==================================\n",
      "Tool Calls:\n",
      "  lookup_policy (d4b2dfb5-63f3-46eb-a531-7b1d8873595f)\n",
      " Call ID: d4b2dfb5-63f3-46eb-a531-7b1d8873595f\n",
      "  Args:\n",
      "    query: cancel ticket 10 hours before flight\n",
      "=================================\u001b[1m Tool Message \u001b[0m=================================\n",
      "Name: lookup_policy\n",
      "\n",
      "\"hour cancellation policy that allows passengers to cancel their flights within 24 hours of booking at +1-877-507-7341\\nwithout penalty . This policy applies to all fare types, including non-refundable tickets. If you cancel your Swiss Airlines\\nflight within 24 hours of booking, you'll receive a full refund of your ticket price.\\nHow to Cancel Swiss Airlines Flight within 24 Hours? If you need to cancel your Swiss Airlines flight within 24 hours of\\nbooking, you can do so easily online. Here are the steps to follow:\\nGo to Swiss Airlines' website and click on the \\\"Manage your bookings\\\" tab. Enter your booking reference number and last\\nname to access your booking. Select the flight you want to cancel and click on \\\"Cancel flight.\\\" Confirm your cancellation\\nand you'll receive a full refund of your ticket price. If you booked your Swiss Airlines flight through a travel agent, you'll\\nneed to contact them directly to cancel your flight within 24 hours.\\nImportant Things to Keep in Mind for Swiss Airlines 24 Hour Cancellation Here are some important things to keep in mind\\nwhen cancelling your Swiss Airlines flight within 24 hours:\\nSwiss Airlines' 24 hour cancellation policy only applies to flights booked directly through Swiss Airlines. If you booked\\nyour flight through a travel agent or third-party website, you'll need to check their cancellation policy . If you cancel your\\nSwiss Airlines flight after the 24 hour window , you may be subject to cancellation fees or penalties. If you have a non-\\nrefundable ticket and cancel your flight within 24 hours of booking, you'll receive a full refund of your ticket price.\\nHowever , if you cancel your flight after the 24 hour window , you may not be eligible for a refund. Swiss Airlines' 24 hour\\ncancellation policy allows passengers to cancel their flights within 24 hours of booking without penalty . If you need to\\ncancel your Swiss Airlines flight within 24 hours, you can do so easily online. Just remember to check the terms and\\nconditions of your ticket to make sure you're eligible for a refund.\\nSwiss Air Cancellation Fees The cancellation fees for Swiss Air flights may vary depending on the type of ticket you have\\npurchased. The airline of fers three dif ferent types of tickets, which are:\\n\\ncancel your Swiss Airlines flight within 24 hours, you can do so easily online. Just remember to check the terms and\\nconditions of your ticket to make sure you're eligible for a refund.\\nSwiss Air Cancellation Fees The cancellation fees for Swiss Air flights may vary depending on the type of ticket you have\\npurchased. The airline of fers three dif ferent types of tickets, which are:\\nFlex T icket - This ticket of fers the most flexibility and allows passengers to make changes or cancel their flight without\\nincurring any additional fees. Standard T icket - This ticket of fers some flexibility but charges a fee for changes and\\ncancellations. The fee for cancelling a standard ticket can range from 100 to 250 CHF , depending on the route and time\\nof cancellation. Economy T icket - This ticket of fers the least flexibility and charges a fee for any changes or cancellations.\\nThe fee for cancelling an economy ticket can range from 150 to 350 CHF , depending on the route and time of\\ncancellation. It is important to note that the fees listed above are subject to change and may vary depending on the\\nspecific ticket you have purchased. Additionally , if you have purchased any add-ons or upgrades, such as extra baggage\\nor seat selection, the fees associated with cancelling those may also apply .\\nSwiss Air Refund Policy If you cancel your Swiss Air flight, you may be eligible for a refund depending on the type of\\nticket you have purchased and the time of cancellation. Here are the details:\\nFlex T icket - If you have purchased a Flex T icket, you can cancel your flight without incurring any fees and receive a full\\nrefund. Standard T icket - If you have purchased a Standard T icket and cancel your flight within 24 hours of booking, you\\ncan receive a full refund. If you cancel your flight after 24 hours, you may be charged a cancellation fee and receive a\\npartial refund. Economy T icket - If you have purchased an Economy T icket and cancel your flight within 24 hours of\\nbooking, you can receive a full refund. If you cancel your flight after 24 hours, you may be charged a cancellation fee and\"\n",
      "==================================\u001b[1m Ai Message \u001b[0m==================================\n",
      "\n",
      "Based on the information I found, Swiss Airlines has a policy that allows passengers to cancel their flights without penalty within 24 hours of booking. However, this does not apply to cancellations made 10 hours before the flight.\n",
      "\n",
      "For tickets booked directly through Swiss Airlines:\n",
      "- If you cancel your flight within 24 hours of booking, you'll receive a full refund.\n",
      "- After the 24-hour window, cancellation fees may apply depending on the type of ticket (Flex, Standard, or Economy).\n",
      "\n",
      "If you have a non-refundable ticket and need to cancel it more than 24 hours after booking but less than 10 hours before departure, you might still incur cancellation fees. The exact amount depends on your specific ticket type and other factors.\n",
      "\n",
      "To confirm the details for your particular situation, I recommend contacting Swiss Airlines directly or checking the terms and conditions of your specific ticket.\n",
      "Would you like me to provide more detailed information about cancellation policies based on different types of tickets?\n"
     ]
    }
   ],
   "source": [
    "user_input = \"Can I cancel my ticket 10 hours before the flight?\"\n",
    "\n",
    "events = graph.stream(\n",
    "    {\"messages\": [(\"user\", user_input)]}, config, stream_mode=\"values\"\n",
    ")\n",
    "for event in events:\n",
    "    event[\"messages\"][-1].pretty_print()"
   ]
  },
  {
   "cell_type": "markdown",
   "metadata": {},
   "source": [
    "Third query"
   ]
  },
  {
   "cell_type": "code",
   "execution_count": 57,
   "metadata": {},
   "outputs": [
    {
     "name": "stdout",
     "output_type": "stream",
     "text": [
      "================================\u001b[1m Human Message \u001b[0m=================================\n",
      "\n",
      "Right now Harris vs. Trump Presidential Debate is being boradcasted. I want the youtube link to this debate\n",
      "==================================\u001b[1m Ai Message \u001b[0m==================================\n",
      "Tool Calls:\n",
      "  tavily_search_results_json (f7bb654a-bda9-46db-9d0e-7c09aaadcbcb)\n",
      " Call ID: f7bb654a-bda9-46db-9d0e-7c09aaadcbcb\n",
      "  Args:\n",
      "    query: Harris vs. Trump Presidential Debate youtube link\n",
      "=================================\u001b[1m Tool Message \u001b[0m=================================\n",
      "Name: tavily_search_results_json\n",
      "\n",
      "[{\"url\": \"https://www.pbs.org/newshour/politics/watch-live-harris-and-trump-debate-pbs-news-simulcast-of-abcs-2024-presidential-debate\", \"content\": \"WATCH: Harris and Trump debate \\u2014 PBS News simulcast of ABC\\u2019s 2024 Presidential Debate Vice President Kamala Harris and former President Donald Trump faced off Tuesday night for their first and possibly only debate before Election Day. The state of the race as they meet in Philadelphia is starkly different than it was just more than two months ago, when Trump debated President Joe Biden in a performance that accelerated calls for Biden to leave the race. WATCH: What to watch in the ABC Harris-Trump debate Watch PBS News\\u2019 special coverage here and the\\u00a0ABC Presidential Debate in the player above. This year\\u2019s presidential race is a genuine contest of ideas between Harris and Trump \\u2014 with clear differences on taxes, abortion, immigration, global alliances, climate change and democracy itself. LIVE FACT CHECK: Trump and Harris meet for presidential debate\"}, {\"url\": \"https://www.youtube.com/live/VgsC_aBquUE\", \"content\": \"Watch live coverage as Vice President Kamala Harris and former President Donald Trump face off in their first presidential debate in Philadelphia.Follow live\"}]\n",
      "==================================\u001b[1m Ai Message \u001b[0m==================================\n",
      "\n",
      "Here is the YouTube link to the live broadcast of the Harris vs. Trump Presidential Debate: [Live Coverage](https://www.youtube.com/live/VgsC_aBquUE)\n",
      "\n",
      "You can watch the debate directly from this link. Enjoy!\n"
     ]
    }
   ],
   "source": [
    "user_input = \"Right now Harris vs. Trump Presidential Debate is being boradcasted. I want the youtube link to this debate\"\n",
    "\n",
    "events = graph.stream(\n",
    "    {\"messages\": [(\"user\", user_input)]}, config, stream_mode=\"values\"\n",
    ")\n",
    "for event in events:\n",
    "    event[\"messages\"][-1].pretty_print()"
   ]
  },
  {
   "cell_type": "code",
   "execution_count": 58,
   "metadata": {},
   "outputs": [
    {
     "data": {
      "text/plain": [
       "{'messages': [HumanMessage(content='Hi there! My name is Farzad.', additional_kwargs={}, response_metadata={}, id='f4f27765-26b6-49f2-83ed-27b52dcf0754'),\n",
       "  AIMessage(content='Hello Farzad! How can I assist you today?', additional_kwargs={}, response_metadata={'model': 'qwen2.5:14b', 'created_at': '2024-12-28T21:57:12.593927719Z', 'done': True, 'done_reason': 'stop', 'total_duration': 22531473934, 'load_duration': 5798754576, 'prompt_eval_count': 310, 'prompt_eval_duration': 14535000000, 'eval_count': 13, 'eval_duration': 1906000000, 'message': {'role': 'assistant', 'content': 'Hello Farzad! How can I assist you today?', 'images': None, 'tool_calls': None}}, id='run-2adcc65b-62a6-44e4-aae8-d0f4ecbd19c2-0', usage_metadata={'input_tokens': 310, 'output_tokens': 13, 'total_tokens': 323}),\n",
       "  HumanMessage(content='Hi there! My name is Farzad.', additional_kwargs={}, response_metadata={}, id='a9e05604-f060-4c14-80c3-40f58d734981'),\n",
       "  AIMessage(content=\"Hello Farzad! It's nice to meet you. Is there something specific you'd like help with or discuss?\", additional_kwargs={}, response_metadata={'model': 'qwen2.5:14b', 'created_at': '2024-12-28T21:57:42.336864874Z', 'done': True, 'done_reason': 'stop', 'total_duration': 4897217932, 'load_duration': 17834532, 'prompt_eval_count': 342, 'prompt_eval_duration': 977000000, 'eval_count': 25, 'eval_duration': 3865000000, 'message': {'role': 'assistant', 'content': \"Hello Farzad! It's nice to meet you. Is there something specific you'd like help with or discuss?\", 'images': None, 'tool_calls': None}}, id='run-39fe0afc-9bb5-490f-9041-dcc8c96549d3-0', usage_metadata={'input_tokens': 342, 'output_tokens': 25, 'total_tokens': 367}),\n",
       "  HumanMessage(content='Can I cancel my ticket 10 hours before the flight?', additional_kwargs={}, response_metadata={}, id='bd35ead3-501a-4b07-852a-78306928330b'),\n",
       "  AIMessage(content='', additional_kwargs={}, response_metadata={'model': 'qwen2.5:14b', 'created_at': '2024-12-28T21:58:31.199278408Z', 'done': True, 'done_reason': 'stop', 'total_duration': 8093563039, 'load_duration': 20104355, 'prompt_eval_count': 389, 'prompt_eval_duration': 1151000000, 'eval_count': 44, 'eval_duration': 6884000000, 'message': {'role': 'assistant', 'content': '', 'images': None, 'tool_calls': None}}, id='run-29e79a94-b493-43e6-a174-50aad7b40e3b-0', tool_calls=[{'name': 'lookup_policy', 'args': {'query': 'cancel ticket 10 hours before flight'}, 'id': 'd4b2dfb5-63f3-46eb-a531-7b1d8873595f', 'type': 'tool_call'}], usage_metadata={'input_tokens': 389, 'output_tokens': 44, 'total_tokens': 433}),\n",
       "  ToolMessage(content='\"hour cancellation policy that allows passengers to cancel their flights within 24 hours of booking at +1-877-507-7341\\\\nwithout penalty . This policy applies to all fare types, including non-refundable tickets. If you cancel your Swiss Airlines\\\\nflight within 24 hours of booking, you\\'ll receive a full refund of your ticket price.\\\\nHow to Cancel Swiss Airlines Flight within 24 Hours? If you need to cancel your Swiss Airlines flight within 24 hours of\\\\nbooking, you can do so easily online. Here are the steps to follow:\\\\nGo to Swiss Airlines\\' website and click on the \\\\\"Manage your bookings\\\\\" tab. Enter your booking reference number and last\\\\nname to access your booking. Select the flight you want to cancel and click on \\\\\"Cancel flight.\\\\\" Confirm your cancellation\\\\nand you\\'ll receive a full refund of your ticket price. If you booked your Swiss Airlines flight through a travel agent, you\\'ll\\\\nneed to contact them directly to cancel your flight within 24 hours.\\\\nImportant Things to Keep in Mind for Swiss Airlines 24 Hour Cancellation Here are some important things to keep in mind\\\\nwhen cancelling your Swiss Airlines flight within 24 hours:\\\\nSwiss Airlines\\' 24 hour cancellation policy only applies to flights booked directly through Swiss Airlines. If you booked\\\\nyour flight through a travel agent or third-party website, you\\'ll need to check their cancellation policy . If you cancel your\\\\nSwiss Airlines flight after the 24 hour window , you may be subject to cancellation fees or penalties. If you have a non-\\\\nrefundable ticket and cancel your flight within 24 hours of booking, you\\'ll receive a full refund of your ticket price.\\\\nHowever , if you cancel your flight after the 24 hour window , you may not be eligible for a refund. Swiss Airlines\\' 24 hour\\\\ncancellation policy allows passengers to cancel their flights within 24 hours of booking without penalty . If you need to\\\\ncancel your Swiss Airlines flight within 24 hours, you can do so easily online. Just remember to check the terms and\\\\nconditions of your ticket to make sure you\\'re eligible for a refund.\\\\nSwiss Air Cancellation Fees The cancellation fees for Swiss Air flights may vary depending on the type of ticket you have\\\\npurchased. The airline of fers three dif ferent types of tickets, which are:\\\\n\\\\ncancel your Swiss Airlines flight within 24 hours, you can do so easily online. Just remember to check the terms and\\\\nconditions of your ticket to make sure you\\'re eligible for a refund.\\\\nSwiss Air Cancellation Fees The cancellation fees for Swiss Air flights may vary depending on the type of ticket you have\\\\npurchased. The airline of fers three dif ferent types of tickets, which are:\\\\nFlex T icket - This ticket of fers the most flexibility and allows passengers to make changes or cancel their flight without\\\\nincurring any additional fees. Standard T icket - This ticket of fers some flexibility but charges a fee for changes and\\\\ncancellations. The fee for cancelling a standard ticket can range from 100 to 250 CHF , depending on the route and time\\\\nof cancellation. Economy T icket - This ticket of fers the least flexibility and charges a fee for any changes or cancellations.\\\\nThe fee for cancelling an economy ticket can range from 150 to 350 CHF , depending on the route and time of\\\\ncancellation. It is important to note that the fees listed above are subject to change and may vary depending on the\\\\nspecific ticket you have purchased. Additionally , if you have purchased any add-ons or upgrades, such as extra baggage\\\\nor seat selection, the fees associated with cancelling those may also apply .\\\\nSwiss Air Refund Policy If you cancel your Swiss Air flight, you may be eligible for a refund depending on the type of\\\\nticket you have purchased and the time of cancellation. Here are the details:\\\\nFlex T icket - If you have purchased a Flex T icket, you can cancel your flight without incurring any fees and receive a full\\\\nrefund. Standard T icket - If you have purchased a Standard T icket and cancel your flight within 24 hours of booking, you\\\\ncan receive a full refund. If you cancel your flight after 24 hours, you may be charged a cancellation fee and receive a\\\\npartial refund. Economy T icket - If you have purchased an Economy T icket and cancel your flight within 24 hours of\\\\nbooking, you can receive a full refund. If you cancel your flight after 24 hours, you may be charged a cancellation fee and\"', name='lookup_policy', id='a92a3127-04e4-4b5f-abbc-dfe13b7a2729', tool_call_id='d4b2dfb5-63f3-46eb-a531-7b1d8873595f'),\n",
       "  AIMessage(content=\"Based on the information I found, Swiss Airlines has a policy that allows passengers to cancel their flights without penalty within 24 hours of booking. However, this does not apply to cancellations made 10 hours before the flight.\\n\\nFor tickets booked directly through Swiss Airlines:\\n- If you cancel your flight within 24 hours of booking, you'll receive a full refund.\\n- After the 24-hour window, cancellation fees may apply depending on the type of ticket (Flex, Standard, or Economy).\\n\\nIf you have a non-refundable ticket and need to cancel it more than 24 hours after booking but less than 10 hours before departure, you might still incur cancellation fees. The exact amount depends on your specific ticket type and other factors.\\n\\nTo confirm the details for your particular situation, I recommend contacting Swiss Airlines directly or checking the terms and conditions of your specific ticket.\\nWould you like me to provide more detailed information about cancellation policies based on different types of tickets?\", additional_kwargs={}, response_metadata={'model': 'qwen2.5:14b', 'created_at': '2024-12-28T22:00:02.301049624Z', 'done': True, 'done_reason': 'stop', 'total_duration': 90455938454, 'load_duration': 14345485, 'prompt_eval_count': 1416, 'prompt_eval_duration': 56071000000, 'eval_count': 201, 'eval_duration': 34299000000, 'message': {'role': 'assistant', 'content': \"Based on the information I found, Swiss Airlines has a policy that allows passengers to cancel their flights without penalty within 24 hours of booking. However, this does not apply to cancellations made 10 hours before the flight.\\n\\nFor tickets booked directly through Swiss Airlines:\\n- If you cancel your flight within 24 hours of booking, you'll receive a full refund.\\n- After the 24-hour window, cancellation fees may apply depending on the type of ticket (Flex, Standard, or Economy).\\n\\nIf you have a non-refundable ticket and need to cancel it more than 24 hours after booking but less than 10 hours before departure, you might still incur cancellation fees. The exact amount depends on your specific ticket type and other factors.\\n\\nTo confirm the details for your particular situation, I recommend contacting Swiss Airlines directly or checking the terms and conditions of your specific ticket.\\nWould you like me to provide more detailed information about cancellation policies based on different types of tickets?\", 'images': None, 'tool_calls': None}}, id='run-bde7364f-87fa-4cc9-bb3d-7cbccbbadc4b-0', usage_metadata={'input_tokens': 1416, 'output_tokens': 201, 'total_tokens': 1617}),\n",
       "  HumanMessage(content='Right now Harris vs. Trump Presidential Debate is being boradcasted. I want the youtube link to this debate', additional_kwargs={}, response_metadata={}, id='5ce1d559-82a5-4b98-81d5-c2f856f90e61'),\n",
       "  AIMessage(content='', additional_kwargs={}, response_metadata={'model': 'qwen2.5:14b', 'created_at': '2024-12-28T22:01:15.766411648Z', 'done': True, 'done_reason': 'stop', 'total_duration': 14214591672, 'load_duration': 8236121, 'prompt_eval_count': 1649, 'prompt_eval_duration': 2048000000, 'eval_count': 71, 'eval_duration': 12056000000, 'message': Message(role='assistant', content='', images=None, tool_calls=None)}, id='run-31abde0a-2f47-48a7-bd1c-e0e6d5c3c240-0', tool_calls=[{'name': 'tavily_search_results_json', 'args': {'query': 'Harris vs. Trump Presidential Debate youtube link'}, 'id': 'f7bb654a-bda9-46db-9d0e-7c09aaadcbcb', 'type': 'tool_call'}], usage_metadata={'input_tokens': 1649, 'output_tokens': 71, 'total_tokens': 1720}),\n",
       "  ToolMessage(content='[{\"url\": \"https://www.pbs.org/newshour/politics/watch-live-harris-and-trump-debate-pbs-news-simulcast-of-abcs-2024-presidential-debate\", \"content\": \"WATCH: Harris and Trump debate \\\\u2014 PBS News simulcast of ABC\\\\u2019s 2024 Presidential Debate Vice President Kamala Harris and former President Donald Trump faced off Tuesday night for their first and possibly only debate before Election Day. The state of the race as they meet in Philadelphia is starkly different than it was just more than two months ago, when Trump debated President Joe Biden in a performance that accelerated calls for Biden to leave the race. WATCH: What to watch in the ABC Harris-Trump debate Watch PBS News\\\\u2019 special coverage here and the\\\\u00a0ABC Presidential Debate in the player above. This year\\\\u2019s presidential race is a genuine contest of ideas between Harris and Trump \\\\u2014 with clear differences on taxes, abortion, immigration, global alliances, climate change and democracy itself. LIVE FACT CHECK: Trump and Harris meet for presidential debate\"}, {\"url\": \"https://www.youtube.com/live/VgsC_aBquUE\", \"content\": \"Watch live coverage as Vice President Kamala Harris and former President Donald Trump face off in their first presidential debate in Philadelphia.Follow live\"}]', name='tavily_search_results_json', id='72116908-ebc3-4135-891b-c20a9852fe55', tool_call_id='f7bb654a-bda9-46db-9d0e-7c09aaadcbcb'),\n",
       "  AIMessage(content='Here is the YouTube link to the live broadcast of the Harris vs. Trump Presidential Debate: [Live Coverage](https://www.youtube.com/live/VgsC_aBquUE)\\n\\nYou can watch the debate directly from this link. Enjoy!', additional_kwargs={}, response_metadata={'model': 'qwen2.5:14b', 'created_at': '2024-12-28T22:01:47.086264705Z', 'done': True, 'done_reason': 'stop', 'total_duration': 28780620364, 'load_duration': 25431786, 'prompt_eval_count': 1989, 'prompt_eval_duration': 19974000000, 'eval_count': 49, 'eval_duration': 8625000000, 'message': Message(role='assistant', content='Here is the YouTube link to the live broadcast of the Harris vs. Trump Presidential Debate: [Live Coverage](https://www.youtube.com/live/VgsC_aBquUE)\\n\\nYou can watch the debate directly from this link. Enjoy!', images=None, tool_calls=None)}, id='run-36419dc2-96cb-4964-a2de-c31dab502a6d-0', usage_metadata={'input_tokens': 1989, 'output_tokens': 49, 'total_tokens': 2038})]}"
      ]
     },
     "execution_count": 58,
     "metadata": {},
     "output_type": "execute_result"
    }
   ],
   "source": [
    "event"
   ]
  }
 ],
 "metadata": {
  "kernelspec": {
   "display_name": ".venv",
   "language": "python",
   "name": "python3"
  },
  "language_info": {
   "codemirror_mode": {
    "name": "ipython",
    "version": 3
   },
   "file_extension": ".py",
   "mimetype": "text/x-python",
   "name": "python",
   "nbconvert_exporter": "python",
   "pygments_lexer": "ipython3",
   "version": "3.12.4"
  }
 },
 "nbformat": 4,
 "nbformat_minor": 2
}
